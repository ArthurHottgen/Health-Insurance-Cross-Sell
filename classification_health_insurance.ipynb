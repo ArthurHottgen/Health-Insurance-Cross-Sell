{
 "cells": [
  {
   "cell_type": "code",
   "execution_count": 67,
   "id": "c04ccd08",
   "metadata": {},
   "outputs": [],
   "source": [
    "import pandas as pd\n",
    "import numpy as np\n",
    "from sklearn.preprocessing import OneHotEncoder\n",
    "\n",
    "from IPython.core.display import HTML\n",
    "import matplotlib.pyplot as plt\n",
    "import matplotlib.gridspec as gridspec\n",
    "import seaborn as sns\n",
    "\n",
    "import warnings\n",
    "warnings.filterwarnings('ignore')"
   ]
  },
  {
   "cell_type": "code",
   "execution_count": 68,
   "id": "6b263a44",
   "metadata": {},
   "outputs": [],
   "source": [
    "def vscode_settings():\n",
    "    # Set plot style and size\n",
    "    plt.style.use('bmh')\n",
    "    plt.rcParams['figure.figsize'] = [25, 7]\n",
    "    plt.rcParams['font.size'] = 24\n",
    "    \n",
    "    # Set pandas display settings\n",
    "    pd.options.display.max_columns = None\n",
    "    pd.set_option('display.expand_frame_repr', False)\n",
    "    pd.set_option('display.max_columns', None)\n",
    "    \n",
    "    # Set seaborn as default for statistical plots\n",
    "    sns.set()\n",
    "\n",
    "# Apply settings\n",
    "vscode_settings()"
   ]
  },
  {
   "cell_type": "code",
   "execution_count": 69,
   "id": "45b237c4",
   "metadata": {
    "ExecuteTime": {
     "end_time": "2024-10-15T16:14:38.448836Z",
     "start_time": "2024-10-15T16:14:38.007689Z"
    }
   },
   "outputs": [],
   "source": [
    "df_raw = pd.read_csv('health_insurance_cross-sell/data/raw/train.csv')"
   ]
  },
  {
   "cell_type": "code",
   "execution_count": 70,
   "id": "33103418",
   "metadata": {
    "ExecuteTime": {
     "end_time": "2024-10-15T17:40:22.240503Z",
     "start_time": "2024-10-15T17:40:22.217307Z"
    }
   },
   "outputs": [
    {
     "data": {
      "text/html": [
       "<div>\n",
       "<style scoped>\n",
       "    .dataframe tbody tr th:only-of-type {\n",
       "        vertical-align: middle;\n",
       "    }\n",
       "\n",
       "    .dataframe tbody tr th {\n",
       "        vertical-align: top;\n",
       "    }\n",
       "\n",
       "    .dataframe thead th {\n",
       "        text-align: right;\n",
       "    }\n",
       "</style>\n",
       "<table border=\"1\" class=\"dataframe\">\n",
       "  <thead>\n",
       "    <tr style=\"text-align: right;\">\n",
       "      <th></th>\n",
       "      <th>id</th>\n",
       "      <th>Gender</th>\n",
       "      <th>Age</th>\n",
       "      <th>Driving_License</th>\n",
       "      <th>Region_Code</th>\n",
       "      <th>Previously_Insured</th>\n",
       "      <th>Vehicle_Age</th>\n",
       "      <th>Vehicle_Damage</th>\n",
       "      <th>Annual_Premium</th>\n",
       "      <th>Policy_Sales_Channel</th>\n",
       "      <th>Vintage</th>\n",
       "      <th>Response</th>\n",
       "    </tr>\n",
       "  </thead>\n",
       "  <tbody>\n",
       "    <tr>\n",
       "      <th>0</th>\n",
       "      <td>1</td>\n",
       "      <td>Male</td>\n",
       "      <td>44</td>\n",
       "      <td>1</td>\n",
       "      <td>28.0</td>\n",
       "      <td>0</td>\n",
       "      <td>&gt; 2 Years</td>\n",
       "      <td>Yes</td>\n",
       "      <td>40454.0</td>\n",
       "      <td>26.0</td>\n",
       "      <td>217</td>\n",
       "      <td>1</td>\n",
       "    </tr>\n",
       "    <tr>\n",
       "      <th>1</th>\n",
       "      <td>2</td>\n",
       "      <td>Male</td>\n",
       "      <td>76</td>\n",
       "      <td>1</td>\n",
       "      <td>3.0</td>\n",
       "      <td>0</td>\n",
       "      <td>1-2 Year</td>\n",
       "      <td>No</td>\n",
       "      <td>33536.0</td>\n",
       "      <td>26.0</td>\n",
       "      <td>183</td>\n",
       "      <td>0</td>\n",
       "    </tr>\n",
       "    <tr>\n",
       "      <th>2</th>\n",
       "      <td>3</td>\n",
       "      <td>Male</td>\n",
       "      <td>47</td>\n",
       "      <td>1</td>\n",
       "      <td>28.0</td>\n",
       "      <td>0</td>\n",
       "      <td>&gt; 2 Years</td>\n",
       "      <td>Yes</td>\n",
       "      <td>38294.0</td>\n",
       "      <td>26.0</td>\n",
       "      <td>27</td>\n",
       "      <td>1</td>\n",
       "    </tr>\n",
       "    <tr>\n",
       "      <th>3</th>\n",
       "      <td>4</td>\n",
       "      <td>Male</td>\n",
       "      <td>21</td>\n",
       "      <td>1</td>\n",
       "      <td>11.0</td>\n",
       "      <td>1</td>\n",
       "      <td>&lt; 1 Year</td>\n",
       "      <td>No</td>\n",
       "      <td>28619.0</td>\n",
       "      <td>152.0</td>\n",
       "      <td>203</td>\n",
       "      <td>0</td>\n",
       "    </tr>\n",
       "    <tr>\n",
       "      <th>4</th>\n",
       "      <td>5</td>\n",
       "      <td>Female</td>\n",
       "      <td>29</td>\n",
       "      <td>1</td>\n",
       "      <td>41.0</td>\n",
       "      <td>1</td>\n",
       "      <td>&lt; 1 Year</td>\n",
       "      <td>No</td>\n",
       "      <td>27496.0</td>\n",
       "      <td>152.0</td>\n",
       "      <td>39</td>\n",
       "      <td>0</td>\n",
       "    </tr>\n",
       "  </tbody>\n",
       "</table>\n",
       "</div>"
      ],
      "text/plain": [
       "   id  Gender  Age  Driving_License  Region_Code  Previously_Insured Vehicle_Age Vehicle_Damage  Annual_Premium  Policy_Sales_Channel  Vintage  Response\n",
       "0   1    Male   44                1         28.0                   0   > 2 Years            Yes         40454.0                  26.0      217         1\n",
       "1   2    Male   76                1          3.0                   0    1-2 Year             No         33536.0                  26.0      183         0\n",
       "2   3    Male   47                1         28.0                   0   > 2 Years            Yes         38294.0                  26.0       27         1\n",
       "3   4    Male   21                1         11.0                   1    < 1 Year             No         28619.0                 152.0      203         0\n",
       "4   5  Female   29                1         41.0                   1    < 1 Year             No         27496.0                 152.0       39         0"
      ]
     },
     "execution_count": 70,
     "metadata": {},
     "output_type": "execute_result"
    }
   ],
   "source": [
    "df_raw.head()"
   ]
  },
  {
   "cell_type": "markdown",
   "id": "2ef97eca",
   "metadata": {},
   "source": [
    "# Data Description"
   ]
  },
  {
   "cell_type": "markdown",
   "id": "fdc1bade",
   "metadata": {},
   "source": [
    "## Check Data Type"
   ]
  },
  {
   "cell_type": "code",
   "execution_count": 71,
   "id": "08176768",
   "metadata": {},
   "outputs": [],
   "source": [
    "df1 = df_raw.copy()"
   ]
  },
  {
   "cell_type": "code",
   "execution_count": 72,
   "id": "77642790",
   "metadata": {
    "ExecuteTime": {
     "end_time": "2024-10-15T16:14:38.479176Z",
     "start_time": "2024-10-15T16:14:38.455877Z"
    }
   },
   "outputs": [
    {
     "data": {
      "text/plain": [
       "id                        int64\n",
       "Gender                   object\n",
       "Age                       int64\n",
       "Driving_License           int64\n",
       "Region_Code             float64\n",
       "Previously_Insured        int64\n",
       "Vehicle_Age              object\n",
       "Vehicle_Damage           object\n",
       "Annual_Premium          float64\n",
       "Policy_Sales_Channel    float64\n",
       "Vintage                   int64\n",
       "Response                  int64\n",
       "dtype: object"
      ]
     },
     "execution_count": 72,
     "metadata": {},
     "output_type": "execute_result"
    }
   ],
   "source": [
    "df1.dtypes"
   ]
  },
  {
   "cell_type": "markdown",
   "id": "8968b72a",
   "metadata": {},
   "source": [
    "## Check NA"
   ]
  },
  {
   "cell_type": "code",
   "execution_count": 73,
   "id": "774c662e",
   "metadata": {},
   "outputs": [
    {
     "data": {
      "text/plain": [
       "id                      0\n",
       "Gender                  0\n",
       "Age                     0\n",
       "Driving_License         0\n",
       "Region_Code             0\n",
       "Previously_Insured      0\n",
       "Vehicle_Age             0\n",
       "Vehicle_Damage          0\n",
       "Annual_Premium          0\n",
       "Policy_Sales_Channel    0\n",
       "Vintage                 0\n",
       "Response                0\n",
       "dtype: int64"
      ]
     },
     "execution_count": 73,
     "metadata": {},
     "output_type": "execute_result"
    }
   ],
   "source": [
    "df1.isna().sum()"
   ]
  },
  {
   "cell_type": "markdown",
   "id": "c9d98c72",
   "metadata": {},
   "source": [
    "## Data Dimensions"
   ]
  },
  {
   "cell_type": "code",
   "execution_count": 74,
   "id": "ff63733b",
   "metadata": {},
   "outputs": [
    {
     "name": "stdout",
     "output_type": "stream",
     "text": [
      "Number of rows: 381109\n",
      "Number of Columns: 12\n"
     ]
    }
   ],
   "source": [
    "print(\"Number of rows: {}\".format(df1.shape[0]))\n",
    "print(\"Number of Columns: {}\".format(df1.shape[1]))"
   ]
  },
  {
   "cell_type": "markdown",
   "id": "69edb55a",
   "metadata": {},
   "source": [
    "## Descriptive Statistical"
   ]
  },
  {
   "cell_type": "markdown",
   "id": "c73813a4",
   "metadata": {},
   "source": [
    "### Numerical Attributes"
   ]
  },
  {
   "cell_type": "code",
   "execution_count": 75,
   "id": "811a4d0a",
   "metadata": {},
   "outputs": [],
   "source": [
    "num_attributes = df1.select_dtypes(['int64', 'float64'])"
   ]
  },
  {
   "cell_type": "code",
   "execution_count": 76,
   "id": "a4c8a292",
   "metadata": {},
   "outputs": [
    {
     "data": {
      "text/html": [
       "<div>\n",
       "<style scoped>\n",
       "    .dataframe tbody tr th:only-of-type {\n",
       "        vertical-align: middle;\n",
       "    }\n",
       "\n",
       "    .dataframe tbody tr th {\n",
       "        vertical-align: top;\n",
       "    }\n",
       "\n",
       "    .dataframe thead th {\n",
       "        text-align: right;\n",
       "    }\n",
       "</style>\n",
       "<table border=\"1\" class=\"dataframe\">\n",
       "  <thead>\n",
       "    <tr style=\"text-align: right;\">\n",
       "      <th></th>\n",
       "      <th>attributes</th>\n",
       "      <th>min</th>\n",
       "      <th>max</th>\n",
       "      <th>range</th>\n",
       "      <th>mean</th>\n",
       "      <th>median</th>\n",
       "      <th>std</th>\n",
       "      <th>skew</th>\n",
       "      <th>kurtosis</th>\n",
       "    </tr>\n",
       "  </thead>\n",
       "  <tbody>\n",
       "    <tr>\n",
       "      <th>0</th>\n",
       "      <td>id</td>\n",
       "      <td>1.0</td>\n",
       "      <td>381109.0</td>\n",
       "      <td>381108.0</td>\n",
       "      <td>190555.000000</td>\n",
       "      <td>190555.0</td>\n",
       "      <td>110016.836208</td>\n",
       "      <td>9.443274e-16</td>\n",
       "      <td>-1.200000</td>\n",
       "    </tr>\n",
       "    <tr>\n",
       "      <th>1</th>\n",
       "      <td>Age</td>\n",
       "      <td>20.0</td>\n",
       "      <td>85.0</td>\n",
       "      <td>65.0</td>\n",
       "      <td>38.822584</td>\n",
       "      <td>36.0</td>\n",
       "      <td>15.511611</td>\n",
       "      <td>6.725390e-01</td>\n",
       "      <td>-0.565655</td>\n",
       "    </tr>\n",
       "    <tr>\n",
       "      <th>2</th>\n",
       "      <td>Driving_License</td>\n",
       "      <td>0.0</td>\n",
       "      <td>1.0</td>\n",
       "      <td>1.0</td>\n",
       "      <td>0.997869</td>\n",
       "      <td>1.0</td>\n",
       "      <td>0.046110</td>\n",
       "      <td>-2.159518e+01</td>\n",
       "      <td>464.354302</td>\n",
       "    </tr>\n",
       "    <tr>\n",
       "      <th>3</th>\n",
       "      <td>Region_Code</td>\n",
       "      <td>0.0</td>\n",
       "      <td>52.0</td>\n",
       "      <td>52.0</td>\n",
       "      <td>26.388807</td>\n",
       "      <td>28.0</td>\n",
       "      <td>13.229888</td>\n",
       "      <td>-1.152664e-01</td>\n",
       "      <td>-0.867857</td>\n",
       "    </tr>\n",
       "    <tr>\n",
       "      <th>4</th>\n",
       "      <td>Previously_Insured</td>\n",
       "      <td>0.0</td>\n",
       "      <td>1.0</td>\n",
       "      <td>1.0</td>\n",
       "      <td>0.458210</td>\n",
       "      <td>0.0</td>\n",
       "      <td>0.498251</td>\n",
       "      <td>1.677471e-01</td>\n",
       "      <td>-1.971871</td>\n",
       "    </tr>\n",
       "    <tr>\n",
       "      <th>5</th>\n",
       "      <td>Annual_Premium</td>\n",
       "      <td>2630.0</td>\n",
       "      <td>540165.0</td>\n",
       "      <td>537535.0</td>\n",
       "      <td>30564.389581</td>\n",
       "      <td>31669.0</td>\n",
       "      <td>17213.155057</td>\n",
       "      <td>1.766087e+00</td>\n",
       "      <td>34.004569</td>\n",
       "    </tr>\n",
       "    <tr>\n",
       "      <th>6</th>\n",
       "      <td>Policy_Sales_Channel</td>\n",
       "      <td>1.0</td>\n",
       "      <td>163.0</td>\n",
       "      <td>162.0</td>\n",
       "      <td>112.034295</td>\n",
       "      <td>133.0</td>\n",
       "      <td>54.203995</td>\n",
       "      <td>-9.000081e-01</td>\n",
       "      <td>-0.970810</td>\n",
       "    </tr>\n",
       "    <tr>\n",
       "      <th>7</th>\n",
       "      <td>Vintage</td>\n",
       "      <td>10.0</td>\n",
       "      <td>299.0</td>\n",
       "      <td>289.0</td>\n",
       "      <td>154.347397</td>\n",
       "      <td>154.0</td>\n",
       "      <td>83.671304</td>\n",
       "      <td>3.029517e-03</td>\n",
       "      <td>-1.200688</td>\n",
       "    </tr>\n",
       "    <tr>\n",
       "      <th>8</th>\n",
       "      <td>Response</td>\n",
       "      <td>0.0</td>\n",
       "      <td>1.0</td>\n",
       "      <td>1.0</td>\n",
       "      <td>0.122563</td>\n",
       "      <td>0.0</td>\n",
       "      <td>0.327936</td>\n",
       "      <td>2.301906e+00</td>\n",
       "      <td>3.298788</td>\n",
       "    </tr>\n",
       "  </tbody>\n",
       "</table>\n",
       "</div>"
      ],
      "text/plain": [
       "             attributes     min       max     range           mean    median            std          skew    kurtosis\n",
       "0                    id     1.0  381109.0  381108.0  190555.000000  190555.0  110016.836208  9.443274e-16   -1.200000\n",
       "1                   Age    20.0      85.0      65.0      38.822584      36.0      15.511611  6.725390e-01   -0.565655\n",
       "2       Driving_License     0.0       1.0       1.0       0.997869       1.0       0.046110 -2.159518e+01  464.354302\n",
       "3           Region_Code     0.0      52.0      52.0      26.388807      28.0      13.229888 -1.152664e-01   -0.867857\n",
       "4    Previously_Insured     0.0       1.0       1.0       0.458210       0.0       0.498251  1.677471e-01   -1.971871\n",
       "5        Annual_Premium  2630.0  540165.0  537535.0   30564.389581   31669.0   17213.155057  1.766087e+00   34.004569\n",
       "6  Policy_Sales_Channel     1.0     163.0     162.0     112.034295     133.0      54.203995 -9.000081e-01   -0.970810\n",
       "7               Vintage    10.0     299.0     289.0     154.347397     154.0      83.671304  3.029517e-03   -1.200688\n",
       "8              Response     0.0       1.0       1.0       0.122563       0.0       0.327936  2.301906e+00    3.298788"
      ]
     },
     "execution_count": 76,
     "metadata": {},
     "output_type": "execute_result"
    }
   ],
   "source": [
    "#mean median\n",
    "\n",
    "ct1 = pd.DataFrame(num_attributes.apply(lambda x: x.mean())).T\n",
    "ct2 = pd.DataFrame(num_attributes.apply(lambda x: x.median())).T\n",
    "\n",
    "#Dispersion - Std, Min, Max, Range, Skew, Kurtosis\n",
    "\n",
    "d1 = pd.DataFrame(num_attributes.apply(lambda x: x.std())).T\n",
    "d2 = pd.DataFrame(num_attributes.apply(lambda x: x.min())).T\n",
    "d3 = pd.DataFrame(num_attributes.apply(lambda x: x.max())).T\n",
    "d4 = pd.DataFrame(num_attributes.apply(lambda x: x.max() - x.min())).T\n",
    "d5 = pd.DataFrame(num_attributes.apply(lambda x: x.skew())).T\n",
    "d6 = pd.DataFrame(num_attributes.apply(lambda x: x.kurtosis())).T\n",
    "\n",
    "m = pd.concat([d2,d3,d4,ct1,ct2,d1,d5,d6]).T.reset_index()\n",
    "m.columns = ['attributes','min','max','range','mean','median','std','skew','kurtosis']\n",
    "m"
   ]
  },
  {
   "cell_type": "markdown",
   "id": "96030d8c",
   "metadata": {},
   "source": [
    "### Categorical Attributes"
   ]
  },
  {
   "cell_type": "code",
   "execution_count": 77,
   "id": "c4fab649",
   "metadata": {},
   "outputs": [],
   "source": [
    "cat_attributes = df1[['Gender', 'Vehicle_Age', 'Vehicle_Damage', 'Response', 'Previously_Insured']]"
   ]
  },
  {
   "cell_type": "code",
   "execution_count": 78,
   "id": "01428e1d",
   "metadata": {},
   "outputs": [
    {
     "data": {
      "image/png": "[encoded data removed]",
      "text/plain": [
       "<Figure size 1600x800 with 5 Axes>"
      ]
     },
     "metadata": {},
     "output_type": "display_data"
    }
   ],
   "source": [
    "# Set the figure size\n",
    "plt.figure(figsize=(16, 8))\n",
    "\n",
    "# Function to add percentages on top of the bars\n",
    "def add_percentages(ax):\n",
    "    total = len(cat_attributes)\n",
    "    for p in ax.patches:\n",
    "        percentage = f'{100 * p.get_height() / total:.1f}%'\n",
    "        ax.annotate(percentage, (p.get_x() + p.get_width() / 2., p.get_height()), \n",
    "                    ha='center', va='center', fontsize=12, color='black', xytext=(0, 5), \n",
    "                    textcoords='offset points')\n",
    "\n",
    "# Create the countplots with different colors and add percentages\n",
    "\n",
    "# Plot 1: Gender\n",
    "plt.subplot(2, 3, 1)\n",
    "ax1 = sns.countplot(x='Gender', data=cat_attributes, palette='Set1')\n",
    "add_percentages(ax1)\n",
    "\n",
    "# Plot 2: Vehicle_Age\n",
    "plt.subplot(2, 3, 2)\n",
    "ax2 = sns.countplot(x='Vehicle_Age', data=cat_attributes, palette='Set1')\n",
    "add_percentages(ax2)\n",
    "\n",
    "# Plot 3: Vehicle_Damage\n",
    "plt.subplot(2, 3, 3)\n",
    "ax3 = sns.countplot(x='Vehicle_Damage', data=cat_attributes, palette='Set1')\n",
    "add_percentages(ax3)\n",
    "\n",
    "# Plot 4: Response\n",
    "plt.subplot(2, 3, 4)\n",
    "ax4 = sns.countplot(x='Response', data=cat_attributes, palette='Set1')\n",
    "add_percentages(ax4)\n",
    "\n",
    "# Plot 5: Previously_Insured\n",
    "plt.subplot(2, 3, 5)\n",
    "ax5 = sns.countplot(x='Previously_Insured', data=cat_attributes, palette='Set1')\n",
    "add_percentages(ax5)\n",
    "\n",
    "# Show the plot\n",
    "plt.tight_layout()\n",
    "plt.show()"
   ]
  },
  {
   "cell_type": "markdown",
   "id": "e38512a4",
   "metadata": {},
   "source": [
    "# Feature Engineering"
   ]
  },
  {
   "cell_type": "code",
   "execution_count": 79,
   "id": "df16570b",
   "metadata": {},
   "outputs": [],
   "source": [
    "df2 = df1.copy()"
   ]
  },
  {
   "cell_type": "code",
   "execution_count": 80,
   "id": "7f7dd51c",
   "metadata": {
    "ExecuteTime": {
     "end_time": "2024-10-15T16:14:39.651548Z",
     "start_time": "2024-10-15T16:14:39.232286Z"
    }
   },
   "outputs": [],
   "source": [
    "# Initialize the OneHotEncoder\n",
    "#encoder = OneHotEncoder(sparse=False, drop='first')  # sparse=False for dense output, drop='first' to avoid dummy variable trap\n",
    "encoder = OneHotEncoder(sparse_output=False, drop='first')\n",
    "\n",
    "# Fit and transform the 'Gender' column\n",
    "gender_encoded = encoder.fit_transform(df2[['Gender']])\n",
    "\n",
    "# Convert the result into a DataFrame and add it to the original DataFrame\n",
    "gender_encoded_df = pd.DataFrame(gender_encoded, columns=encoder.get_feature_names_out(['Gender']))\n",
    "\n",
    "# Concatenate the original DataFrame with the encoded column(s)\n",
    "df_train = pd.concat([df2, gender_encoded_df], axis=1).drop('Gender', axis=1)\n",
    "\n",
    "# Fit and transform the 'Vehicle_Damage' column\n",
    "vehicle_dameged_encoded = encoder.fit_transform(df_train[['Vehicle_Damage']])\n",
    "\n",
    "# Convert the result into a DataFrame and add it to the original DataFrame\n",
    "vehicle_dameged_encoded_df = pd.DataFrame(vehicle_dameged_encoded, columns=encoder.get_feature_names_out(['Vehicle_Damage']))\n",
    "\n",
    "# Concatenate the original DataFrame with the encoded column(s)\n",
    "df2 = pd.concat([df2, vehicle_dameged_encoded_df], axis=1).drop('Vehicle_Damage', axis=1)"
   ]
  },
  {
   "cell_type": "code",
   "execution_count": 81,
   "id": "efc28a92",
   "metadata": {
    "ExecuteTime": {
     "end_time": "2024-10-15T16:14:40.388615Z",
     "start_time": "2024-10-15T16:14:40.370465Z"
    }
   },
   "outputs": [],
   "source": [
    "# Convert column names to snake_case\n",
    "df2.columns = df2.columns.str.lower().str.replace(' ', '_')"
   ]
  },
  {
   "cell_type": "code",
   "execution_count": 82,
   "id": "9b14a428",
   "metadata": {
    "ExecuteTime": {
     "end_time": "2024-10-15T17:40:21.964214Z",
     "start_time": "2024-10-15T17:40:21.813141Z"
    }
   },
   "outputs": [],
   "source": [
    "# Create a mapping dictionary\n",
    "vehicle_age_mapping = {\n",
    "    '< 1 Year': 0,\n",
    "    '1-2 Year': 1,\n",
    "    '> 2 Years': 2\n",
    "}\n",
    "\n",
    "# Apply the mapping to the 'vehicle_age' column\n",
    "df2['vehicle_age_numeric'] = df2['vehicle_age'].map(vehicle_age_mapping)\n",
    "\n",
    "df2 = df2.drop('vehicle_age', axis=1)"
   ]
  },
  {
   "cell_type": "code",
   "execution_count": 83,
   "id": "d488c161",
   "metadata": {},
   "outputs": [
    {
     "data": {
      "text/html": [
       "<div>\n",
       "<style scoped>\n",
       "    .dataframe tbody tr th:only-of-type {\n",
       "        vertical-align: middle;\n",
       "    }\n",
       "\n",
       "    .dataframe tbody tr th {\n",
       "        vertical-align: top;\n",
       "    }\n",
       "\n",
       "    .dataframe thead th {\n",
       "        text-align: right;\n",
       "    }\n",
       "</style>\n",
       "<table border=\"1\" class=\"dataframe\">\n",
       "  <thead>\n",
       "    <tr style=\"text-align: right;\">\n",
       "      <th></th>\n",
       "      <th>id</th>\n",
       "      <th>gender</th>\n",
       "      <th>age</th>\n",
       "      <th>driving_license</th>\n",
       "      <th>region_code</th>\n",
       "      <th>previously_insured</th>\n",
       "      <th>annual_premium</th>\n",
       "      <th>policy_sales_channel</th>\n",
       "      <th>vintage</th>\n",
       "      <th>response</th>\n",
       "      <th>vehicle_damage_yes</th>\n",
       "      <th>vehicle_age_numeric</th>\n",
       "    </tr>\n",
       "  </thead>\n",
       "  <tbody>\n",
       "    <tr>\n",
       "      <th>0</th>\n",
       "      <td>1</td>\n",
       "      <td>Male</td>\n",
       "      <td>44</td>\n",
       "      <td>1</td>\n",
       "      <td>28.0</td>\n",
       "      <td>0</td>\n",
       "      <td>40454.0</td>\n",
       "      <td>26.0</td>\n",
       "      <td>217</td>\n",
       "      <td>1</td>\n",
       "      <td>1.0</td>\n",
       "      <td>2</td>\n",
       "    </tr>\n",
       "    <tr>\n",
       "      <th>1</th>\n",
       "      <td>2</td>\n",
       "      <td>Male</td>\n",
       "      <td>76</td>\n",
       "      <td>1</td>\n",
       "      <td>3.0</td>\n",
       "      <td>0</td>\n",
       "      <td>33536.0</td>\n",
       "      <td>26.0</td>\n",
       "      <td>183</td>\n",
       "      <td>0</td>\n",
       "      <td>0.0</td>\n",
       "      <td>1</td>\n",
       "    </tr>\n",
       "    <tr>\n",
       "      <th>2</th>\n",
       "      <td>3</td>\n",
       "      <td>Male</td>\n",
       "      <td>47</td>\n",
       "      <td>1</td>\n",
       "      <td>28.0</td>\n",
       "      <td>0</td>\n",
       "      <td>38294.0</td>\n",
       "      <td>26.0</td>\n",
       "      <td>27</td>\n",
       "      <td>1</td>\n",
       "      <td>1.0</td>\n",
       "      <td>2</td>\n",
       "    </tr>\n",
       "    <tr>\n",
       "      <th>3</th>\n",
       "      <td>4</td>\n",
       "      <td>Male</td>\n",
       "      <td>21</td>\n",
       "      <td>1</td>\n",
       "      <td>11.0</td>\n",
       "      <td>1</td>\n",
       "      <td>28619.0</td>\n",
       "      <td>152.0</td>\n",
       "      <td>203</td>\n",
       "      <td>0</td>\n",
       "      <td>0.0</td>\n",
       "      <td>0</td>\n",
       "    </tr>\n",
       "    <tr>\n",
       "      <th>4</th>\n",
       "      <td>5</td>\n",
       "      <td>Female</td>\n",
       "      <td>29</td>\n",
       "      <td>1</td>\n",
       "      <td>41.0</td>\n",
       "      <td>1</td>\n",
       "      <td>27496.0</td>\n",
       "      <td>152.0</td>\n",
       "      <td>39</td>\n",
       "      <td>0</td>\n",
       "      <td>0.0</td>\n",
       "      <td>0</td>\n",
       "    </tr>\n",
       "  </tbody>\n",
       "</table>\n",
       "</div>"
      ],
      "text/plain": [
       "   id  gender  age  driving_license  region_code  previously_insured  annual_premium  policy_sales_channel  vintage  response  vehicle_damage_yes  vehicle_age_numeric\n",
       "0   1    Male   44                1         28.0                   0         40454.0                  26.0      217         1                 1.0                    2\n",
       "1   2    Male   76                1          3.0                   0         33536.0                  26.0      183         0                 0.0                    1\n",
       "2   3    Male   47                1         28.0                   0         38294.0                  26.0       27         1                 1.0                    2\n",
       "3   4    Male   21                1         11.0                   1         28619.0                 152.0      203         0                 0.0                    0\n",
       "4   5  Female   29                1         41.0                   1         27496.0                 152.0       39         0                 0.0                    0"
      ]
     },
     "execution_count": 83,
     "metadata": {},
     "output_type": "execute_result"
    }
   ],
   "source": [
    "df2.head()"
   ]
  },
  {
   "cell_type": "markdown",
   "id": "3be981ba",
   "metadata": {},
   "source": [
    "# Exploratory Data Analysis"
   ]
  },
  {
   "cell_type": "code",
   "execution_count": null,
   "id": "d15e3439",
   "metadata": {},
   "outputs": [],
   "source": []
  },
  {
   "cell_type": "code",
   "execution_count": null,
   "id": "c0a8ee84",
   "metadata": {},
   "outputs": [],
   "source": []
  },
  {
   "cell_type": "code",
   "execution_count": null,
   "id": "61bdbec4",
   "metadata": {},
   "outputs": [],
   "source": []
  },
  {
   "cell_type": "code",
   "execution_count": null,
   "id": "5746dfa5",
   "metadata": {},
   "outputs": [],
   "source": []
  },
  {
   "cell_type": "code",
   "execution_count": null,
   "id": "9dc9f641",
   "metadata": {},
   "outputs": [],
   "source": []
  },
  {
   "cell_type": "code",
   "execution_count": null,
   "id": "ea77caee",
   "metadata": {},
   "outputs": [],
   "source": []
  },
  {
   "cell_type": "code",
   "execution_count": null,
   "id": "7a8eb5f9",
   "metadata": {},
   "outputs": [],
   "source": []
  },
  {
   "cell_type": "code",
   "execution_count": null,
   "id": "97f621b5",
   "metadata": {},
   "outputs": [],
   "source": []
  },
  {
   "cell_type": "code",
   "execution_count": null,
   "id": "078af55e",
   "metadata": {},
   "outputs": [],
   "source": []
  }
 ],
 "metadata": {
  "hide_input": false,
  "kernelspec": {
   "display_name": "Python 3 (ipykernel)",
   "language": "python",
   "name": "python3"
  },
  "language_info": {
   "codemirror_mode": {
    "name": "ipython",
    "version": 3
   },
   "file_extension": ".py",
   "mimetype": "text/x-python",
   "name": "python",
   "nbconvert_exporter": "python",
   "pygments_lexer": "ipython3",
   "version": "3.11.1"
  },
  "toc": {
   "base_numbering": 1,
   "nav_menu": {},
   "number_sections": true,
   "sideBar": true,
   "skip_h1_title": false,
   "title_cell": "Table of Contents",
   "title_sidebar": "Contents",
   "toc_cell": false,
   "toc_position": {},
   "toc_section_display": true,
   "toc_window_display": false
  }
 },
 "nbformat": 4,
 "nbformat_minor": 5
}
